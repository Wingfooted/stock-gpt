{
 "cells": [
  {
   "cell_type": "code",
   "execution_count": 1,
   "id": "e4afc96f",
   "metadata": {},
   "outputs": [],
   "source": [
    "from functions import get_ticker_parallel, p, d #p is parametrized cursor, and d is parametrized dataframe (for quereying)\n",
    "from dataclass import sql\n",
    "import pandas as pd\n",
    "import datetime\n",
    "import pymysql\n",
    "import time"
   ]
  },
  {
   "cell_type": "code",
   "execution_count": 2,
   "id": "39ee5702",
   "metadata": {},
   "outputs": [],
   "source": [
    "# Testing the get_ticker_parallel function\n",
    "\n",
    "symbol = \"AAPL\"\n",
    "#2014-12-32\n",
    "start = datetime.date(2019, 12, 30)\n",
    "end = datetime.date(2020, 10, 30)\n",
    "#critically, it includes 28 and 31. so 28, 29, 30 and 31. therefore len 4\n",
    "\n",
    "dbs = [\"earnings\", \"rates\", \"options\", \"stocks\"]\n",
    "ports = [8000, 8001, 8002, 8003]\n",
    "earnings_connection = pymysql.connect(host=\"127.0.0.1\",\n",
    "                                port=ports[0],\n",
    "                                user=\"root\",\n",
    "                                db=dbs[0])\n",
    "rates_connection = pymysql.connect(host=\"127.0.0.1\",\n",
    "                                port=ports[1],\n",
    "                                user=\"root\",\n",
    "                                db=dbs[1])\n",
    "options_connection = pymysql.connect(host=\"127.0.0.1\",\n",
    "                                port=ports[2],\n",
    "                                user=\"root\",\n",
    "                                db=dbs[2])\n",
    "stocks_connection = pymysql.connect(host=\"127.0.0.1\",\n",
    "                                port=ports[3],\n",
    "                                user=\"root\",\n",
    "                                db=dbs[3])\n",
    "# connections\n",
    "\n",
    "#check_port_list(\"127.0.0.1\", ports, dbs)\n",
    "\n",
    "# checking ports system\n",
    "\n",
    "with (\n",
    "    earnings_connection.cursor() as earnings,\n",
    "    rates_connection.cursor() as rates,\n",
    "    options_connection.cursor() as options,\n",
    "    stocks_connection.cursor() as stocks\n",
    "):\n",
    "    pass"
   ]
  },
  {
   "cell_type": "code",
   "execution_count": 3,
   "id": "0cdefda1",
   "metadata": {},
   "outputs": [],
   "source": [
    "def timef(func):\n",
    "    def wrapper(*args, **kwargs):\n",
    "        start_time = time.time()  \n",
    "        result = func(*args, **kwargs) \n",
    "        end_time = time.time()  \n",
    "        execution_time = end_time - start_time  \n",
    "        print(f\"Took {execution_time:.4f} seconds to complete\")\n",
    "        return result  \n",
    "    return wrapper"
   ]
  },
  {
   "cell_type": "code",
   "execution_count": 4,
   "id": "24e74493",
   "metadata": {},
   "outputs": [
    {
     "ename": "TypeError",
     "evalue": "'d' object is not callable",
     "output_type": "error",
     "traceback": [
      "\u001b[0;31m---------------------------------------------------------------------------\u001b[0m",
      "\u001b[0;31mTypeError\u001b[0m                                 Traceback (most recent call last)",
      "Cell \u001b[0;32mIn[4], line 18\u001b[0m\n\u001b[1;32m     15\u001b[0m             \u001b[38;5;66;03m#print(xs)\u001b[39;00m\n\u001b[1;32m     16\u001b[0m     \u001b[38;5;28;01mreturn\u001b[39;00m xs, ys\n\u001b[0;32m---> 18\u001b[0m xs, ys \u001b[38;5;241m=\u001b[39m \u001b[43mmain\u001b[49m\u001b[43m(\u001b[49m\u001b[43m)\u001b[49m\n",
      "Cell \u001b[0;32mIn[3], line 4\u001b[0m, in \u001b[0;36mtimef.<locals>.wrapper\u001b[0;34m(*args, **kwargs)\u001b[0m\n\u001b[1;32m      2\u001b[0m \u001b[38;5;28;01mdef\u001b[39;00m \u001b[38;5;21mwrapper\u001b[39m(\u001b[38;5;241m*\u001b[39margs, \u001b[38;5;241m*\u001b[39m\u001b[38;5;241m*\u001b[39mkwargs):\n\u001b[1;32m      3\u001b[0m     start_time \u001b[38;5;241m=\u001b[39m time\u001b[38;5;241m.\u001b[39mtime()  \n\u001b[0;32m----> 4\u001b[0m     result \u001b[38;5;241m=\u001b[39m \u001b[43mfunc\u001b[49m\u001b[43m(\u001b[49m\u001b[38;5;241;43m*\u001b[39;49m\u001b[43margs\u001b[49m\u001b[43m,\u001b[49m\u001b[43m \u001b[49m\u001b[38;5;241;43m*\u001b[39;49m\u001b[38;5;241;43m*\u001b[39;49m\u001b[43mkwargs\u001b[49m\u001b[43m)\u001b[49m \n\u001b[1;32m      5\u001b[0m     end_time \u001b[38;5;241m=\u001b[39m time\u001b[38;5;241m.\u001b[39mtime()  \n\u001b[1;32m      6\u001b[0m     execution_time \u001b[38;5;241m=\u001b[39m end_time \u001b[38;5;241m-\u001b[39m start_time  \n",
      "Cell \u001b[0;32mIn[4], line 13\u001b[0m, in \u001b[0;36mmain\u001b[0;34m()\u001b[0m\n\u001b[1;32m     11\u001b[0m         x_sql \u001b[38;5;241m=\u001b[39m [d(df, date\u001b[38;5;241m=\u001b[39m\u001b[38;5;28;01mTrue\u001b[39;00m)]\n\u001b[1;32m     12\u001b[0m         y_sql \u001b[38;5;241m=\u001b[39m [p(sql\u001b[38;5;241m.\u001b[39mtoday, stocks), p(sql\u001b[38;5;241m.\u001b[39mfuture, stocks)]\n\u001b[0;32m---> 13\u001b[0m         xs, ys \u001b[38;5;241m=\u001b[39m \u001b[43mget_ticker_parallel\u001b[49m\u001b[43m(\u001b[49m\u001b[43msymbol\u001b[49m\u001b[43m,\u001b[49m\u001b[43m \u001b[49m\u001b[43mstart\u001b[49m\u001b[43m,\u001b[49m\u001b[43m \u001b[49m\u001b[43mend\u001b[49m\u001b[43m,\u001b[49m\u001b[43m \u001b[49m\n\u001b[1;32m     14\u001b[0m \u001b[43m                                     \u001b[49m\u001b[43mx_sql\u001b[49m\u001b[43m,\u001b[49m\u001b[43m \u001b[49m\u001b[43my_sql\u001b[49m\u001b[43m)\u001b[49m\n\u001b[1;32m     15\u001b[0m         \u001b[38;5;66;03m#print(xs)\u001b[39;00m\n\u001b[1;32m     16\u001b[0m \u001b[38;5;28;01mreturn\u001b[39;00m xs, ys\n",
      "File \u001b[0;32m~/Developer/ai/stock/data/functions.py:63\u001b[0m, in \u001b[0;36mget_ticker_parallel\u001b[0;34m(symbol, start, end, x_queries, y_queries, step)\u001b[0m\n\u001b[1;32m     61\u001b[0m \u001b[38;5;28;01mfor\u001b[39;00m i_date \u001b[38;5;129;01min\u001b[39;00m drange(start, end, step):\n\u001b[1;32m     62\u001b[0m     \u001b[38;5;28;01mfor\u001b[39;00m query \u001b[38;5;129;01min\u001b[39;00m x_queries:\n\u001b[0;32m---> 63\u001b[0m         temp \u001b[38;5;241m=\u001b[39m \u001b[43mquery\u001b[49m\u001b[43m(\u001b[49m\u001b[43mi_date\u001b[49m\u001b[43m,\u001b[49m\u001b[43m \u001b[49m\u001b[43msymbol\u001b[49m\u001b[43m)\u001b[49m\n\u001b[1;32m     65\u001b[0m         \u001b[38;5;28;01mif\u001b[39;00m \u001b[38;5;129;01mnot\u001b[39;00m temp:\n\u001b[1;32m     66\u001b[0m             temp \u001b[38;5;241m=\u001b[39m [\u001b[38;5;241m0\u001b[39m \u001b[38;5;28;01mfor\u001b[39;00m i \u001b[38;5;129;01min\u001b[39;00m \u001b[38;5;28mrange\u001b[39m(query\u001b[38;5;241m.\u001b[39mlength)]\n",
      "\u001b[0;31mTypeError\u001b[0m: 'd' object is not callable"
     ]
    }
   ],
   "source": [
    "df = pd.read_csv(\"raw/oil.csv\")\n",
    "@timef\n",
    "def main():\n",
    "    with (\n",
    "        earnings_connection.cursor() as earnings,\n",
    "        rates_connection.cursor() as rates,\n",
    "        options_connection.cursor() as options,\n",
    "        stocks_connection.cursor() as stocks\n",
    "    ):\n",
    "        for i in range(1):\n",
    "            x_sql = [d(df, date=True)]\n",
    "            y_sql = [p(sql.today, stocks), p(sql.future, stocks)]\n",
    "            xs, ys = get_ticker_parallel(symbol, start, end, \n",
    "                                         x_sql, y_sql)\n",
    "            #print(xs)\n",
    "    return xs, ys\n",
    "\n",
    "xs, ys = main()\n"
   ]
  },
  {
   "cell_type": "code",
   "execution_count": null,
   "id": "1d8e4819",
   "metadata": {},
   "outputs": [],
   "source": [
    "for day, value in ys.items():\n",
    "    print(day, value)"
   ]
  },
  {
   "cell_type": "code",
   "execution_count": null,
   "id": "fefc9965",
   "metadata": {},
   "outputs": [],
   "source": []
  }
 ],
 "metadata": {
  "kernelspec": {
   "display_name": "Python 3 (ipykernel)",
   "language": "python",
   "name": "python3"
  },
  "language_info": {
   "codemirror_mode": {
    "name": "ipython",
    "version": 3
   },
   "file_extension": ".py",
   "mimetype": "text/x-python",
   "name": "python",
   "nbconvert_exporter": "python",
   "pygments_lexer": "ipython3",
   "version": "3.11.3"
  }
 },
 "nbformat": 4,
 "nbformat_minor": 5
}
